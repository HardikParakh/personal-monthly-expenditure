{
 "cells": [
  {
   "cell_type": "code",
   "execution_count": 2,
   "id": "b13fcbf4",
   "metadata": {},
   "outputs": [],
   "source": [
    "import numpy as np\n",
    "import pandas as pd\n",
    "from matplotlib import pyplot as plt\n",
    "import seaborn as sns\n",
    "import os\n",
    "\n",
    "\n",
    "import plotly.express as px\n",
    "\n",
    "%matplotlib inline"
   ]
  },
  {
   "cell_type": "code",
   "execution_count": 3,
   "id": "448aaa81",
   "metadata": {},
   "outputs": [
    {
     "data": {
      "text/html": [
       "<div>\n",
       "<style scoped>\n",
       "    .dataframe tbody tr th:only-of-type {\n",
       "        vertical-align: middle;\n",
       "    }\n",
       "\n",
       "    .dataframe tbody tr th {\n",
       "        vertical-align: top;\n",
       "    }\n",
       "\n",
       "    .dataframe thead th {\n",
       "        text-align: right;\n",
       "    }\n",
       "</style>\n",
       "<table border=\"1\" class=\"dataframe\">\n",
       "  <thead>\n",
       "    <tr style=\"text-align: right;\">\n",
       "      <th></th>\n",
       "      <th>Date</th>\n",
       "      <th>Item</th>\n",
       "      <th>Amount</th>\n",
       "      <th>Category</th>\n",
       "      <th>Time</th>\n",
       "      <th>day</th>\n",
       "    </tr>\n",
       "  </thead>\n",
       "  <tbody>\n",
       "    <tr>\n",
       "      <th>0</th>\n",
       "      <td>1/3/2023</td>\n",
       "      <td>chai</td>\n",
       "      <td>7</td>\n",
       "      <td>alone</td>\n",
       "      <td>7:00</td>\n",
       "      <td>Wednesday</td>\n",
       "    </tr>\n",
       "    <tr>\n",
       "      <th>1</th>\n",
       "      <td>1/3/2023</td>\n",
       "      <td>chai</td>\n",
       "      <td>20</td>\n",
       "      <td>friend</td>\n",
       "      <td>10:00</td>\n",
       "      <td>Wednesday</td>\n",
       "    </tr>\n",
       "    <tr>\n",
       "      <th>2</th>\n",
       "      <td>1/3/2023</td>\n",
       "      <td>juice</td>\n",
       "      <td>15</td>\n",
       "      <td>friend</td>\n",
       "      <td>13:00</td>\n",
       "      <td>Wednesday</td>\n",
       "    </tr>\n",
       "    <tr>\n",
       "      <th>3</th>\n",
       "      <td>1/3/2023</td>\n",
       "      <td>rikshow</td>\n",
       "      <td>12</td>\n",
       "      <td>alone</td>\n",
       "      <td>14:00</td>\n",
       "      <td>Wednesday</td>\n",
       "    </tr>\n",
       "    <tr>\n",
       "      <th>4</th>\n",
       "      <td>1/3/2023</td>\n",
       "      <td>coffee</td>\n",
       "      <td>12</td>\n",
       "      <td>alone</td>\n",
       "      <td>15:00</td>\n",
       "      <td>Wednesday</td>\n",
       "    </tr>\n",
       "  </tbody>\n",
       "</table>\n",
       "</div>"
      ],
      "text/plain": [
       "       Date     Item  Amount Category   Time        day\n",
       "0  1/3/2023     chai       7    alone   7:00  Wednesday\n",
       "1  1/3/2023     chai      20   friend  10:00  Wednesday\n",
       "2  1/3/2023    juice      15   friend  13:00  Wednesday\n",
       "3  1/3/2023  rikshow      12    alone  14:00  Wednesday\n",
       "4  1/3/2023   coffee      12    alone  15:00  Wednesday"
      ]
     },
     "execution_count": 3,
     "metadata": {},
     "output_type": "execute_result"
    }
   ],
   "source": [
    "df = pd.read_csv('myExpenses1.csv')\n",
    "df.head()"
   ]
  },
  {
   "cell_type": "code",
   "execution_count": 4,
   "id": "711f1087",
   "metadata": {},
   "outputs": [
    {
     "name": "stdout",
     "output_type": "stream",
     "text": [
      "<class 'pandas.core.frame.DataFrame'>\n",
      "RangeIndex: 145 entries, 0 to 144\n",
      "Data columns (total 6 columns):\n",
      " #   Column    Non-Null Count  Dtype \n",
      "---  ------    --------------  ----- \n",
      " 0   Date      145 non-null    object\n",
      " 1   Item      145 non-null    object\n",
      " 2   Amount    145 non-null    int64 \n",
      " 3   Category  144 non-null    object\n",
      " 4   Time      145 non-null    object\n",
      " 5   day       145 non-null    object\n",
      "dtypes: int64(1), object(5)\n",
      "memory usage: 6.9+ KB\n"
     ]
    }
   ],
   "source": [
    "df.info()"
   ]
  },
  {
   "cell_type": "code",
   "execution_count": 5,
   "id": "0965ca62",
   "metadata": {},
   "outputs": [
    {
     "data": {
      "text/html": [
       "<div>\n",
       "<style scoped>\n",
       "    .dataframe tbody tr th:only-of-type {\n",
       "        vertical-align: middle;\n",
       "    }\n",
       "\n",
       "    .dataframe tbody tr th {\n",
       "        vertical-align: top;\n",
       "    }\n",
       "\n",
       "    .dataframe thead th {\n",
       "        text-align: right;\n",
       "    }\n",
       "</style>\n",
       "<table border=\"1\" class=\"dataframe\">\n",
       "  <thead>\n",
       "    <tr style=\"text-align: right;\">\n",
       "      <th></th>\n",
       "      <th>Amount</th>\n",
       "    </tr>\n",
       "  </thead>\n",
       "  <tbody>\n",
       "    <tr>\n",
       "      <th>count</th>\n",
       "      <td>145.000000</td>\n",
       "    </tr>\n",
       "    <tr>\n",
       "      <th>mean</th>\n",
       "      <td>31.786207</td>\n",
       "    </tr>\n",
       "    <tr>\n",
       "      <th>std</th>\n",
       "      <td>56.389541</td>\n",
       "    </tr>\n",
       "    <tr>\n",
       "      <th>min</th>\n",
       "      <td>5.000000</td>\n",
       "    </tr>\n",
       "    <tr>\n",
       "      <th>25%</th>\n",
       "      <td>12.000000</td>\n",
       "    </tr>\n",
       "    <tr>\n",
       "      <th>50%</th>\n",
       "      <td>17.000000</td>\n",
       "    </tr>\n",
       "    <tr>\n",
       "      <th>75%</th>\n",
       "      <td>30.000000</td>\n",
       "    </tr>\n",
       "    <tr>\n",
       "      <th>max</th>\n",
       "      <td>500.000000</td>\n",
       "    </tr>\n",
       "  </tbody>\n",
       "</table>\n",
       "</div>"
      ],
      "text/plain": [
       "           Amount\n",
       "count  145.000000\n",
       "mean    31.786207\n",
       "std     56.389541\n",
       "min      5.000000\n",
       "25%     12.000000\n",
       "50%     17.000000\n",
       "75%     30.000000\n",
       "max    500.000000"
      ]
     },
     "execution_count": 5,
     "metadata": {},
     "output_type": "execute_result"
    }
   ],
   "source": [
    "df.describe()"
   ]
  },
  {
   "cell_type": "code",
   "execution_count": 6,
   "id": "e55d0212",
   "metadata": {},
   "outputs": [
    {
     "data": {
      "text/plain": [
       "Date        0\n",
       "Item        0\n",
       "Amount      0\n",
       "Category    1\n",
       "Time        0\n",
       "day         0\n",
       "dtype: int64"
      ]
     },
     "execution_count": 6,
     "metadata": {},
     "output_type": "execute_result"
    }
   ],
   "source": [
    "df.isnull().sum()"
   ]
  },
  {
   "cell_type": "code",
   "execution_count": 7,
   "id": "27d0a06c",
   "metadata": {},
   "outputs": [],
   "source": [
    "df['Category'].fillna('alone', inplace=True)"
   ]
  },
  {
   "cell_type": "code",
   "execution_count": 8,
   "id": "3fe94288",
   "metadata": {},
   "outputs": [],
   "source": [
    "# Drop rows where 'Time' is null\n",
    "df = df.dropna(subset=['Time'])\n"
   ]
  },
  {
   "cell_type": "code",
   "execution_count": 9,
   "id": "230b8470",
   "metadata": {},
   "outputs": [],
   "source": [
    "df['Date'] = pd.to_datetime(df['Date'], format='%d/%m/%Y', errors='coerce')\n"
   ]
  },
  {
   "cell_type": "code",
   "execution_count": 10,
   "id": "763ed787",
   "metadata": {},
   "outputs": [],
   "source": [
    "df['Hour'] = df['Date'].dt.hour\n",
    "df['Amount'] = df['Amount']*10"
   ]
  },
  {
   "cell_type": "code",
   "execution_count": 11,
   "id": "8acd8389",
   "metadata": {},
   "outputs": [],
   "source": [
    "def time_of_day(hour):\n",
    "    if 5 <= hour < 12:\n",
    "        return 'Morning'\n",
    "    elif 12 <= hour < 17:\n",
    "        return 'Afternoon'\n",
    "    elif 17 <= hour < 21:\n",
    "        return 'Evening'\n",
    "    else:\n",
    "        return 'Night'\n",
    "\n",
    "# Apply the function to create the 'Time_of_Day' column\n",
    "df['Time_of_Day'] = df['Hour'].apply(time_of_day)"
   ]
  },
  {
   "cell_type": "code",
   "execution_count": 12,
   "id": "01bca586",
   "metadata": {},
   "outputs": [
    {
     "name": "stdout",
     "output_type": "stream",
     "text": [
      "Index(['Date', 'Item', 'Amount', 'Category', 'Time', 'day', 'Hour',\n",
      "       'Time_of_Day'],\n",
      "      dtype='object')\n"
     ]
    }
   ],
   "source": [
    "print(df.columns)"
   ]
  },
  {
   "cell_type": "code",
   "execution_count": 13,
   "id": "9a378597",
   "metadata": {},
   "outputs": [],
   "source": [
    "df = df.drop(columns=['Hour'])"
   ]
  },
  {
   "cell_type": "code",
   "execution_count": 14,
   "id": "538719b8",
   "metadata": {},
   "outputs": [],
   "source": [
    "df['Amount_Category'] = pd.cut(df['Amount'], bins=[0, 50, 100, float('inf')], labels=[\"Low\", \"Medium\", \"High\"])\n"
   ]
  },
  {
   "cell_type": "code",
   "execution_count": 15,
   "id": "526c58b5",
   "metadata": {},
   "outputs": [
    {
     "data": {
      "text/html": [
       "<div>\n",
       "<style scoped>\n",
       "    .dataframe tbody tr th:only-of-type {\n",
       "        vertical-align: middle;\n",
       "    }\n",
       "\n",
       "    .dataframe tbody tr th {\n",
       "        vertical-align: top;\n",
       "    }\n",
       "\n",
       "    .dataframe thead th {\n",
       "        text-align: right;\n",
       "    }\n",
       "</style>\n",
       "<table border=\"1\" class=\"dataframe\">\n",
       "  <thead>\n",
       "    <tr style=\"text-align: right;\">\n",
       "      <th></th>\n",
       "      <th>Date</th>\n",
       "      <th>Item</th>\n",
       "      <th>Amount</th>\n",
       "      <th>Category</th>\n",
       "      <th>Time</th>\n",
       "      <th>day</th>\n",
       "      <th>Time_of_Day</th>\n",
       "      <th>Amount_Category</th>\n",
       "    </tr>\n",
       "  </thead>\n",
       "  <tbody>\n",
       "    <tr>\n",
       "      <th>0</th>\n",
       "      <td>2023-03-01</td>\n",
       "      <td>chai</td>\n",
       "      <td>70</td>\n",
       "      <td>alone</td>\n",
       "      <td>7:00</td>\n",
       "      <td>Wednesday</td>\n",
       "      <td>Night</td>\n",
       "      <td>Medium</td>\n",
       "    </tr>\n",
       "    <tr>\n",
       "      <th>1</th>\n",
       "      <td>2023-03-01</td>\n",
       "      <td>chai</td>\n",
       "      <td>200</td>\n",
       "      <td>friend</td>\n",
       "      <td>10:00</td>\n",
       "      <td>Wednesday</td>\n",
       "      <td>Night</td>\n",
       "      <td>High</td>\n",
       "    </tr>\n",
       "    <tr>\n",
       "      <th>2</th>\n",
       "      <td>2023-03-01</td>\n",
       "      <td>juice</td>\n",
       "      <td>150</td>\n",
       "      <td>friend</td>\n",
       "      <td>13:00</td>\n",
       "      <td>Wednesday</td>\n",
       "      <td>Night</td>\n",
       "      <td>High</td>\n",
       "    </tr>\n",
       "    <tr>\n",
       "      <th>3</th>\n",
       "      <td>2023-03-01</td>\n",
       "      <td>rikshow</td>\n",
       "      <td>120</td>\n",
       "      <td>alone</td>\n",
       "      <td>14:00</td>\n",
       "      <td>Wednesday</td>\n",
       "      <td>Night</td>\n",
       "      <td>High</td>\n",
       "    </tr>\n",
       "    <tr>\n",
       "      <th>4</th>\n",
       "      <td>2023-03-01</td>\n",
       "      <td>coffee</td>\n",
       "      <td>120</td>\n",
       "      <td>alone</td>\n",
       "      <td>15:00</td>\n",
       "      <td>Wednesday</td>\n",
       "      <td>Night</td>\n",
       "      <td>High</td>\n",
       "    </tr>\n",
       "  </tbody>\n",
       "</table>\n",
       "</div>"
      ],
      "text/plain": [
       "        Date     Item  Amount Category   Time        day Time_of_Day  \\\n",
       "0 2023-03-01     chai      70    alone   7:00  Wednesday       Night   \n",
       "1 2023-03-01     chai     200   friend  10:00  Wednesday       Night   \n",
       "2 2023-03-01    juice     150   friend  13:00  Wednesday       Night   \n",
       "3 2023-03-01  rikshow     120    alone  14:00  Wednesday       Night   \n",
       "4 2023-03-01   coffee     120    alone  15:00  Wednesday       Night   \n",
       "\n",
       "  Amount_Category  \n",
       "0          Medium  \n",
       "1            High  \n",
       "2            High  \n",
       "3            High  \n",
       "4            High  "
      ]
     },
     "execution_count": 15,
     "metadata": {},
     "output_type": "execute_result"
    }
   ],
   "source": [
    "df.head()"
   ]
  },
  {
   "cell_type": "code",
   "execution_count": 16,
   "id": "3b95b888",
   "metadata": {},
   "outputs": [
    {
     "name": "stdout",
     "output_type": "stream",
     "text": [
      "Index(['Date', 'Item', 'Amount', 'Category', 'Time', 'day', 'Time_of_Day',\n",
      "       'Amount_Category'],\n",
      "      dtype='object')\n"
     ]
    }
   ],
   "source": [
    "print(df.columns)"
   ]
  },
  {
   "cell_type": "code",
   "execution_count": 17,
   "id": "730e71f6",
   "metadata": {},
   "outputs": [],
   "source": [
    "df = pd.get_dummies(df, columns=['Category'])\n"
   ]
  },
  {
   "cell_type": "code",
   "execution_count": 18,
   "id": "dbb01ccf",
   "metadata": {},
   "outputs": [],
   "source": [
    "from sklearn.preprocessing import LabelEncoder\n",
    "le = LabelEncoder()\n",
    "df['Time_of_Day'] = le.fit_transform(df['Time_of_Day'])\n"
   ]
  },
  {
   "cell_type": "code",
   "execution_count": 19,
   "id": "a1bf94e7",
   "metadata": {},
   "outputs": [],
   "source": [
    "# Function to classify expenses\n",
    "def classify_expense(row):\n",
    "    if row['day'] in ['Monday', 'Wednesday', 'Friday'] or row['Time_of_Day'] == 'Night':\n",
    "        return 'Less Essential'\n",
    "    else:\n",
    "        return 'Essential'\n",
    "\n",
    "# Apply the classification logic\n",
    "df['Class'] = df.apply(classify_expense, axis=1)\n",
    "\n"
   ]
  },
  {
   "cell_type": "code",
   "execution_count": 20,
   "id": "4aa86798",
   "metadata": {},
   "outputs": [
    {
     "data": {
      "text/html": [
       "<div>\n",
       "<style scoped>\n",
       "    .dataframe tbody tr th:only-of-type {\n",
       "        vertical-align: middle;\n",
       "    }\n",
       "\n",
       "    .dataframe tbody tr th {\n",
       "        vertical-align: top;\n",
       "    }\n",
       "\n",
       "    .dataframe thead th {\n",
       "        text-align: right;\n",
       "    }\n",
       "</style>\n",
       "<table border=\"1\" class=\"dataframe\">\n",
       "  <thead>\n",
       "    <tr style=\"text-align: right;\">\n",
       "      <th></th>\n",
       "      <th>Date</th>\n",
       "      <th>Item</th>\n",
       "      <th>Amount</th>\n",
       "      <th>Time</th>\n",
       "      <th>day</th>\n",
       "      <th>Time_of_Day</th>\n",
       "      <th>Amount_Category</th>\n",
       "      <th>Category_alone</th>\n",
       "      <th>Category_friend</th>\n",
       "      <th>Class</th>\n",
       "    </tr>\n",
       "  </thead>\n",
       "  <tbody>\n",
       "    <tr>\n",
       "      <th>0</th>\n",
       "      <td>2023-03-01</td>\n",
       "      <td>chai</td>\n",
       "      <td>70</td>\n",
       "      <td>7:00</td>\n",
       "      <td>Wednesday</td>\n",
       "      <td>0</td>\n",
       "      <td>Medium</td>\n",
       "      <td>1</td>\n",
       "      <td>0</td>\n",
       "      <td>Less Essential</td>\n",
       "    </tr>\n",
       "    <tr>\n",
       "      <th>1</th>\n",
       "      <td>2023-03-01</td>\n",
       "      <td>chai</td>\n",
       "      <td>200</td>\n",
       "      <td>10:00</td>\n",
       "      <td>Wednesday</td>\n",
       "      <td>0</td>\n",
       "      <td>High</td>\n",
       "      <td>0</td>\n",
       "      <td>1</td>\n",
       "      <td>Less Essential</td>\n",
       "    </tr>\n",
       "    <tr>\n",
       "      <th>2</th>\n",
       "      <td>2023-03-01</td>\n",
       "      <td>juice</td>\n",
       "      <td>150</td>\n",
       "      <td>13:00</td>\n",
       "      <td>Wednesday</td>\n",
       "      <td>0</td>\n",
       "      <td>High</td>\n",
       "      <td>0</td>\n",
       "      <td>1</td>\n",
       "      <td>Less Essential</td>\n",
       "    </tr>\n",
       "    <tr>\n",
       "      <th>3</th>\n",
       "      <td>2023-03-01</td>\n",
       "      <td>rikshow</td>\n",
       "      <td>120</td>\n",
       "      <td>14:00</td>\n",
       "      <td>Wednesday</td>\n",
       "      <td>0</td>\n",
       "      <td>High</td>\n",
       "      <td>1</td>\n",
       "      <td>0</td>\n",
       "      <td>Less Essential</td>\n",
       "    </tr>\n",
       "    <tr>\n",
       "      <th>4</th>\n",
       "      <td>2023-03-01</td>\n",
       "      <td>coffee</td>\n",
       "      <td>120</td>\n",
       "      <td>15:00</td>\n",
       "      <td>Wednesday</td>\n",
       "      <td>0</td>\n",
       "      <td>High</td>\n",
       "      <td>1</td>\n",
       "      <td>0</td>\n",
       "      <td>Less Essential</td>\n",
       "    </tr>\n",
       "  </tbody>\n",
       "</table>\n",
       "</div>"
      ],
      "text/plain": [
       "        Date     Item  Amount   Time        day  Time_of_Day Amount_Category  \\\n",
       "0 2023-03-01     chai      70   7:00  Wednesday            0          Medium   \n",
       "1 2023-03-01     chai     200  10:00  Wednesday            0            High   \n",
       "2 2023-03-01    juice     150  13:00  Wednesday            0            High   \n",
       "3 2023-03-01  rikshow     120  14:00  Wednesday            0            High   \n",
       "4 2023-03-01   coffee     120  15:00  Wednesday            0            High   \n",
       "\n",
       "   Category_alone  Category_friend           Class  \n",
       "0               1                0  Less Essential  \n",
       "1               0                1  Less Essential  \n",
       "2               0                1  Less Essential  \n",
       "3               1                0  Less Essential  \n",
       "4               1                0  Less Essential  "
      ]
     },
     "execution_count": 20,
     "metadata": {},
     "output_type": "execute_result"
    }
   ],
   "source": [
    "df.head()"
   ]
  },
  {
   "cell_type": "code",
   "execution_count": 21,
   "id": "5fe8539a",
   "metadata": {},
   "outputs": [
    {
     "data": {
      "image/png": "[encoded data removed]",
      "text/plain": [
       "<Figure size 1000x500 with 1 Axes>"
      ]
     },
     "metadata": {},
     "output_type": "display_data"
    }
   ],
   "source": [
    "import pandas as pd\n",
    "import matplotlib.pyplot as plt\n",
    "\n",
    "# Group by 'Time_of_Day' and sum the 'Amount' spent\n",
    "time_spending = df.groupby('Time_of_Day')['Amount'].sum().reset_index()\n",
    "\n",
    "# Decode 'Time_of_Day' back to original labels (if necessary)\n",
    "time_spending['Time_of_Day'] = le.inverse_transform(time_spending['Time_of_Day'])\n",
    "\n",
    "# Sort values for better visualization\n",
    "time_spending = time_spending.sort_values(by='Amount', ascending=False)\n",
    "\n",
    "# Plot the results\n",
    "plt.figure(figsize=(10, 5))\n",
    "plt.bar(time_spending['Time_of_Day'], time_spending['Amount'], color='skyblue')\n",
    "plt.xlabel(\"Time of Day\")\n",
    "plt.ylabel(\"Total Spending Amount\")\n",
    "plt.title(\"Total Spending by Time of Day\")\n",
    "plt.xticks(rotation=45)\n",
    "plt.show()\n"
   ]
  },
  {
   "cell_type": "code",
   "execution_count": null,
   "id": "3a4d3b20",
   "metadata": {},
   "outputs": [],
   "source": []
  }
 ],
 "metadata": {
  "kernelspec": {
   "display_name": "Python 3 (ipykernel)",
   "language": "python",
   "name": "python3"
  },
  "language_info": {
   "codemirror_mode": {
    "name": "ipython",
    "version": 3
   },
   "file_extension": ".py",
   "mimetype": "text/x-python",
   "name": "python",
   "nbconvert_exporter": "python",
   "pygments_lexer": "ipython3",
   "version": "3.11.4"
  }
 },
 "nbformat": 4,
 "nbformat_minor": 5
}
